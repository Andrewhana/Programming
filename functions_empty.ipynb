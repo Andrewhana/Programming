{
  "nbformat": 4,
  "nbformat_minor": 0,
  "metadata": {
    "colab": {
      "provenance": [],
      "collapsed_sections": [
        "XuaHoUysFt8o"
      ],
      "include_colab_link": true
    },
    "kernelspec": {
      "name": "python3",
      "display_name": "Python 3"
    },
    "language_info": {
      "name": "python"
    }
  },
  "cells": [
    {
      "cell_type": "markdown",
      "metadata": {
        "id": "view-in-github",
        "colab_type": "text"
      },
      "source": [
        "<a href=\"https://colab.research.google.com/github/Andrewhana/Programming/blob/main/functions_empty.ipynb\" target=\"_parent\"><img src=\"https://colab.research.google.com/assets/colab-badge.svg\" alt=\"Open In Colab\"/></a>"
      ]
    },
    {
      "cell_type": "markdown",
      "source": [
        "define a function : **def** *name_of_the_funciton* **(** *parameter1, parameter2,* ...**) :**"
      ],
      "metadata": {
        "id": "p5F58H7iq3V-"
      }
    },
    {
      "cell_type": "markdown",
      "source": [
        "call a function: ***name_of_the_function(parameter1, parameter2)***"
      ],
      "metadata": {
        "id": "6mp4iJvhsR-8"
      }
    },
    {
      "cell_type": "code",
      "execution_count": null,
      "metadata": {
        "id": "L4pN2J_sqEPH"
      },
      "outputs": [],
      "source": [
        "def print_params(param1, param2):\n",
        "  print(param1, param2)"
      ]
    },
    {
      "cell_type": "code",
      "source": [
        "print_params('b', 'c')"
      ],
      "metadata": {
        "id": "fSlHKRI5ra-d",
        "colab": {
          "base_uri": "https://localhost:8080/"
        },
        "outputId": "9754c810-06c7-42bf-84db-5ccd9a6e7c43"
      },
      "execution_count": null,
      "outputs": [
        {
          "output_type": "stream",
          "name": "stdout",
          "text": [
            "b c\n"
          ]
        }
      ]
    },
    {
      "cell_type": "code",
      "source": [
        "def return_param(param):\n",
        "  return param"
      ],
      "metadata": {
        "id": "_GVa9YCGSG_I"
      },
      "execution_count": null,
      "outputs": []
    },
    {
      "cell_type": "code",
      "source": [
        "return_param(4)"
      ],
      "metadata": {
        "id": "QcYu_U9ojL9-",
        "colab": {
          "base_uri": "https://localhost:8080/"
        },
        "outputId": "fa334dc3-66f4-4f84-e552-36eba7871d5a"
      },
      "execution_count": null,
      "outputs": [
        {
          "output_type": "execute_result",
          "data": {
            "text/plain": [
              "4"
            ]
          },
          "metadata": {},
          "execution_count": 4
        }
      ]
    },
    {
      "cell_type": "code",
      "source": [
        "x=return_param(3)"
      ],
      "metadata": {
        "id": "PK3zQkvPSKn3"
      },
      "execution_count": null,
      "outputs": []
    },
    {
      "cell_type": "code",
      "source": [
        "print(x)"
      ],
      "metadata": {
        "id": "mAdhJ71BPKFD",
        "colab": {
          "base_uri": "https://localhost:8080/"
        },
        "outputId": "9187e67e-7b94-4d7f-e752-da64b013199b"
      },
      "execution_count": null,
      "outputs": [
        {
          "output_type": "stream",
          "name": "stdout",
          "text": [
            "3\n"
          ]
        }
      ]
    },
    {
      "cell_type": "code",
      "source": [
        "def return_params (param1, param2):\n",
        "  return param1, param2 #returns two values"
      ],
      "metadata": {
        "id": "frMTpKZ0sJ3r"
      },
      "execution_count": null,
      "outputs": []
    },
    {
      "cell_type": "code",
      "source": [
        "return_params(4,5)"
      ],
      "metadata": {
        "id": "L-HgjZ_JjRnb",
        "colab": {
          "base_uri": "https://localhost:8080/"
        },
        "outputId": "ed1381d2-ff97-4110-f396-d1658257bae7"
      },
      "execution_count": null,
      "outputs": [
        {
          "output_type": "execute_result",
          "data": {
            "text/plain": [
              "(4, 5)"
            ]
          },
          "metadata": {},
          "execution_count": 9
        }
      ]
    },
    {
      "cell_type": "code",
      "source": [
        "x, y = return_params(40, 50) #I can assign the returned 2 values to TWO different variables"
      ],
      "metadata": {
        "id": "e4Bt1DeBsOBR"
      },
      "execution_count": null,
      "outputs": []
    },
    {
      "cell_type": "code",
      "source": [
        "print(y)"
      ],
      "metadata": {
        "id": "ny4JSce6sj9N",
        "colab": {
          "base_uri": "https://localhost:8080/"
        },
        "outputId": "bdc1a1dc-3760-4945-d055-87c1bfad5b6a"
      },
      "execution_count": null,
      "outputs": [
        {
          "output_type": "stream",
          "name": "stdout",
          "text": [
            "50\n"
          ]
        }
      ]
    },
    {
      "cell_type": "code",
      "source": [
        "result=return_params(3,4)\n",
        "print(result) #even if the function returns 2 numbers, I can put them into ONE tuple by assigning the result to ONE variable"
      ],
      "metadata": {
        "id": "0V50FRTQ5yOW",
        "colab": {
          "base_uri": "https://localhost:8080/"
        },
        "outputId": "01056fc5-4188-4e97-a09a-e2b16c1392fd"
      },
      "execution_count": null,
      "outputs": [
        {
          "output_type": "stream",
          "name": "stdout",
          "text": [
            "(3, 4)\n"
          ]
        }
      ]
    },
    {
      "cell_type": "code",
      "source": [
        "def add_nums(a, b):\n",
        "  result = a + b\n",
        "  return result"
      ],
      "metadata": {
        "id": "dftfWHtvrgm9"
      },
      "execution_count": null,
      "outputs": []
    },
    {
      "cell_type": "code",
      "source": [
        "add_nums(15, 20) #prints out the result if I do not assign a variable"
      ],
      "metadata": {
        "id": "Zh1soErprkXa",
        "colab": {
          "base_uri": "https://localhost:8080/"
        },
        "outputId": "3afa16e3-463e-4c3a-ad10-4fe883f16fdc"
      },
      "execution_count": null,
      "outputs": [
        {
          "output_type": "execute_result",
          "data": {
            "text/plain": [
              "35"
            ]
          },
          "metadata": {},
          "execution_count": 15
        }
      ]
    },
    {
      "cell_type": "code",
      "source": [
        "res = add_nums(20, 35) #stores the result if I assign a variable"
      ],
      "metadata": {
        "id": "oKPWr-CUrnfb"
      },
      "execution_count": null,
      "outputs": []
    },
    {
      "cell_type": "code",
      "source": [
        "print(res)"
      ],
      "metadata": {
        "id": "AexUNUIITgJS",
        "colab": {
          "base_uri": "https://localhost:8080/"
        },
        "outputId": "ab4822a5-9c5c-421b-8883-7a15526b099a"
      },
      "execution_count": null,
      "outputs": [
        {
          "output_type": "stream",
          "name": "stdout",
          "text": [
            "55\n"
          ]
        }
      ]
    },
    {
      "cell_type": "code",
      "source": [
        "#add and substract the two numbers, return both\n",
        "def calc(num1, num2):\n",
        "  return (num1+num2, num1-num2) #can return \"calculations\" directly"
      ],
      "metadata": {
        "id": "YFr7gxwS4UqX"
      },
      "execution_count": null,
      "outputs": []
    },
    {
      "cell_type": "code",
      "source": [
        "res = calc(4,5)\n",
        "print(res)"
      ],
      "metadata": {
        "id": "Yw1mqhIQ4ajc",
        "colab": {
          "base_uri": "https://localhost:8080/"
        },
        "outputId": "447ac91d-4bb1-417a-8f3c-21096c46c19a"
      },
      "execution_count": null,
      "outputs": [
        {
          "output_type": "stream",
          "name": "stdout",
          "text": [
            "(9, -1)\n"
          ]
        }
      ]
    },
    {
      "cell_type": "code",
      "source": [
        "??calc\n",
        "#--> ask information about args, what does it return, what does it do etc."
      ],
      "metadata": {
        "id": "73rRfN7T5Vik"
      },
      "execution_count": null,
      "outputs": []
    },
    {
      "cell_type": "code",
      "source": [
        "def calc1(num1, num2):\n",
        "  \"\"\"adds and substracts the two numbers\"\"\"\n",
        "  return (num1+num2, num1-num2)"
      ],
      "metadata": {
        "id": "aWb0PQk4KfWr"
      },
      "execution_count": null,
      "outputs": []
    },
    {
      "cell_type": "code",
      "source": [
        "calc1"
      ],
      "metadata": {
        "id": "Dj92DVgWK0IF",
        "colab": {
          "base_uri": "https://localhost:8080/",
          "height": 103
        },
        "outputId": "694985ed-a304-4a8f-b9be-983c6014bc48"
      },
      "execution_count": null,
      "outputs": [
        {
          "output_type": "execute_result",
          "data": {
            "text/plain": [
              "<function __main__.calc1(num1, num2)>"
            ],
            "text/html": [
              "<div style=\"max-width:800px; border: 1px solid var(--colab-border-color);\"><style>\n",
              "      pre.function-repr-contents {\n",
              "        overflow-x: auto;\n",
              "        padding: 8px 12px;\n",
              "        max-height: 500px;\n",
              "      }\n",
              "\n",
              "      pre.function-repr-contents.function-repr-contents-collapsed {\n",
              "        cursor: pointer;\n",
              "        max-height: 100px;\n",
              "      }\n",
              "    </style>\n",
              "    <pre style=\"white-space: initial; background:\n",
              "         var(--colab-secondary-surface-color); padding: 8px 12px;\n",
              "         border-bottom: 1px solid var(--colab-border-color);\"><b>calc1</b><br/>def calc1(num1, num2)</pre><pre class=\"function-repr-contents function-repr-contents-collapsed\" style=\"\"><a class=\"filepath\" style=\"display:none\" href=\"#\">/content/&lt;ipython-input-21-dff952bbb192&gt;</a>adds and substracts the two numbers</pre></div>"
            ]
          },
          "metadata": {},
          "execution_count": 22
        }
      ]
    },
    {
      "cell_type": "markdown",
      "source": [
        "So far we defined functions with exactly 1 or exactly 2 parameters (it could be any number)\n",
        "\n",
        "\n",
        "\n",
        "\n",
        "--> when calling this function: it requires 2 parameters,\n",
        "\n",
        "less parameters: not possible, more parameters: also not"
      ],
      "metadata": {
        "id": "f5zlccqbsv5X"
      }
    },
    {
      "cell_type": "markdown",
      "source": [
        "### * operator: If we do not know in advance exactly how many parameters will the function have:\n",
        "expects a list or any iterable object"
      ],
      "metadata": {
        "id": "fFYLrK6etD0j"
      }
    },
    {
      "cell_type": "code",
      "source": [
        "def myfunction(*args):\n",
        "  for arg in args:\n",
        "      print(arg) #just prints the given arguments"
      ],
      "metadata": {
        "id": "z2OIJUA3su_-"
      },
      "execution_count": null,
      "outputs": []
    },
    {
      "cell_type": "markdown",
      "source": [
        "the * stands for the flexible number of arguments/parameters:\n",
        "\n",
        "this * operator will unpack the list/tuple that the function got as parameter"
      ],
      "metadata": {
        "id": "-dkc1TrekM0b"
      }
    },
    {
      "cell_type": "code",
      "source": [
        "myfunction(6)"
      ],
      "metadata": {
        "id": "hC2os6Tcv8ok",
        "colab": {
          "base_uri": "https://localhost:8080/"
        },
        "outputId": "cd3fbfe6-9f23-4307-ec13-8169062f9c25"
      },
      "execution_count": null,
      "outputs": [
        {
          "output_type": "stream",
          "name": "stdout",
          "text": [
            "6\n"
          ]
        }
      ]
    },
    {
      "cell_type": "code",
      "source": [
        "myfunction(1,2)"
      ],
      "metadata": {
        "id": "3vbpiw2NxGYT",
        "colab": {
          "base_uri": "https://localhost:8080/"
        },
        "outputId": "a7af3aa4-958f-4792-a4ca-1c53c518cea1"
      },
      "execution_count": null,
      "outputs": [
        {
          "output_type": "stream",
          "name": "stdout",
          "text": [
            "1\n",
            "2\n"
          ]
        }
      ]
    },
    {
      "cell_type": "code",
      "source": [
        "myfunction(\"a\", \"b\", \"c\", \"d\")"
      ],
      "metadata": {
        "id": "XveZGr5TxH0K",
        "colab": {
          "base_uri": "https://localhost:8080/"
        },
        "outputId": "22e69182-cf34-4379-ac8a-3a33bcceda86"
      },
      "execution_count": null,
      "outputs": [
        {
          "output_type": "stream",
          "name": "stdout",
          "text": [
            "a\n",
            "b\n",
            "c\n",
            "d\n"
          ]
        }
      ]
    },
    {
      "cell_type": "code",
      "source": [
        "mylist=['apple', '1', \"banana\", \"5\"]\n"
      ],
      "metadata": {
        "id": "kS3bsMWjxJji"
      },
      "execution_count": null,
      "outputs": []
    },
    {
      "cell_type": "code",
      "source": [
        "myfunction(*mylist) #If the parameter of a function is defined as *args (flexible number of parameters), I can add an iterable as a parameter"
      ],
      "metadata": {
        "id": "lCcg1EWXQXmp",
        "colab": {
          "base_uri": "https://localhost:8080/"
        },
        "outputId": "789315e3-aa6a-43f4-e2b1-e48d6df15fe3"
      },
      "execution_count": null,
      "outputs": [
        {
          "output_type": "stream",
          "name": "stdout",
          "text": [
            "apple\n",
            "1\n",
            "banana\n",
            "5\n"
          ]
        }
      ]
    },
    {
      "cell_type": "code",
      "source": [
        "\n",
        "myfunction(mylist)"
      ],
      "metadata": {
        "id": "I1mJS5ogQfRA",
        "colab": {
          "base_uri": "https://localhost:8080/"
        },
        "outputId": "caa5be90-35a5-4c86-9518-91872a964090"
      },
      "execution_count": null,
      "outputs": [
        {
          "output_type": "stream",
          "name": "stdout",
          "text": [
            "['apple', '1', 'banana', '5']\n"
          ]
        }
      ]
    },
    {
      "cell_type": "markdown",
      "source": [
        "what is the difference between the previous two lines?"
      ],
      "metadata": {
        "id": "CsnWXkweLKRT"
      }
    },
    {
      "cell_type": "markdown",
      "source": [
        "## Keyword-arguments: ** operator"
      ],
      "metadata": {
        "id": "cXuYohupkxgb"
      }
    },
    {
      "cell_type": "code",
      "source": [
        "def funct(**kwargs):\n",
        " print(kwargs)"
      ],
      "metadata": {
        "id": "LPqUFvfxzVyS"
      },
      "execution_count": null,
      "outputs": []
    },
    {
      "cell_type": "markdown",
      "source": [
        "** stands for keyword arguments (kwargs): stores the parameters dictionary-like.\n",
        "\n",
        "We need to provide the keywords (name of the parameters) to the function!"
      ],
      "metadata": {
        "id": "7pQyfTMSj0g4"
      }
    },
    {
      "cell_type": "code",
      "source": [
        "funct(a=1, b=2, c=3)"
      ],
      "metadata": {
        "id": "C4wc6rwjiCbr",
        "colab": {
          "base_uri": "https://localhost:8080/"
        },
        "outputId": "a1f5e75f-122a-46e5-87cc-1ac75d5744e2"
      },
      "execution_count": null,
      "outputs": [
        {
          "output_type": "stream",
          "name": "stdout",
          "text": [
            "{'a': 1, 'b': 2, 'c': 3}\n"
          ]
        }
      ]
    },
    {
      "cell_type": "code",
      "source": [
        "#funct(1,2,3) #error"
      ],
      "metadata": {
        "id": "ghg3IN0tQMAB"
      },
      "execution_count": null,
      "outputs": []
    },
    {
      "cell_type": "markdown",
      "source": [
        "## Dictionaries"
      ],
      "metadata": {
        "id": "0UkA--giir5X"
      }
    },
    {
      "cell_type": "code",
      "source": [
        "building={\"area\": 82, \"floors\": 2, \"garden\": True, \"price\": 500000}"
      ],
      "metadata": {
        "id": "3H91NvCPi_S2"
      },
      "execution_count": null,
      "outputs": []
    },
    {
      "cell_type": "code",
      "source": [
        "print(building)\n",
        "print(building['area'])"
      ],
      "metadata": {
        "id": "faeykgtWjZux",
        "colab": {
          "base_uri": "https://localhost:8080/"
        },
        "outputId": "8b615fff-d449-47ff-ab90-6445261b4ee1"
      },
      "execution_count": null,
      "outputs": [
        {
          "output_type": "stream",
          "name": "stdout",
          "text": [
            "{'area': 82, 'floors': 2, 'garden': True, 'price': 500000}\n",
            "82\n"
          ]
        }
      ]
    },
    {
      "cell_type": "code",
      "source": [
        "building.values()"
      ],
      "metadata": {
        "id": "ii5zd2JBeIgK",
        "colab": {
          "base_uri": "https://localhost:8080/"
        },
        "outputId": "fd879dc3-7213-4964-d515-ba4a41edb309"
      },
      "execution_count": null,
      "outputs": [
        {
          "output_type": "execute_result",
          "data": {
            "text/plain": [
              "dict_values([82, 2, True, 500000])"
            ]
          },
          "metadata": {},
          "execution_count": 37
        }
      ]
    },
    {
      "cell_type": "code",
      "source": [
        "building.keys()"
      ],
      "metadata": {
        "id": "rdQ5vu8WeNzB",
        "colab": {
          "base_uri": "https://localhost:8080/"
        },
        "outputId": "9389aeb4-a3e3-44ad-f0ac-79af93095fa6"
      },
      "execution_count": null,
      "outputs": [
        {
          "output_type": "execute_result",
          "data": {
            "text/plain": [
              "dict_keys(['area', 'floors', 'garden', 'price'])"
            ]
          },
          "metadata": {},
          "execution_count": 38
        }
      ]
    },
    {
      "cell_type": "code",
      "source": [
        "#put these results in a dict:\n",
        "#names: John,\tMarie,\tEmily,\tDavid,\tBrian,\tSarah,\tGeorge\n",
        "#points: 10,\t  5,\t   15,\t    9,\t    6,\t    11,\t    14\n"
      ],
      "metadata": {
        "id": "PlEYkU-e7zG0"
      },
      "execution_count": null,
      "outputs": []
    },
    {
      "cell_type": "code",
      "source": [
        "#points={'John':10, \"Marie\":5 ...}"
      ],
      "metadata": {
        "id": "oXw7p8fEi3yU"
      },
      "execution_count": null,
      "outputs": []
    },
    {
      "cell_type": "code",
      "source": [
        "names=['John',\t'Marie',\t'Emily',\t'David',\t'Brian','Sarah','George']\n",
        "results=[10,\t  5,\t   15,\t    9,\t    6,\t    11,\t    14]"
      ],
      "metadata": {
        "id": "coTCPqK9H0ZT"
      },
      "execution_count": null,
      "outputs": []
    },
    {
      "cell_type": "code",
      "source": [
        "points={}"
      ],
      "metadata": {
        "id": "b2Kd-tKp8DJD"
      },
      "execution_count": null,
      "outputs": []
    },
    {
      "cell_type": "code",
      "source": [
        "#iterate through the names list then the results list\n",
        "for name in names:\n",
        "  print(name)\n",
        "\n",
        "for result in results:\n",
        "  print(result)"
      ],
      "metadata": {
        "id": "GVXaTiWxLuvx",
        "colab": {
          "base_uri": "https://localhost:8080/"
        },
        "outputId": "b1de4aa5-5d69-4689-ceb8-0dbea3e9d067"
      },
      "execution_count": null,
      "outputs": [
        {
          "output_type": "stream",
          "name": "stdout",
          "text": [
            "John\n",
            "Marie\n",
            "Emily\n",
            "David\n",
            "Brian\n",
            "Sarah\n",
            "George\n",
            "10\n",
            "5\n",
            "15\n",
            "9\n",
            "6\n",
            "11\n",
            "14\n"
          ]
        }
      ]
    },
    {
      "cell_type": "code",
      "source": [
        "#put the two together:\n",
        "for name,result in zip(names,results):\n",
        "  points[name]=result"
      ],
      "metadata": {
        "id": "0giPjexdIC5r"
      },
      "execution_count": null,
      "outputs": []
    },
    {
      "cell_type": "code",
      "source": [
        "points"
      ],
      "metadata": {
        "id": "z1c3bg3mi07P",
        "colab": {
          "base_uri": "https://localhost:8080/"
        },
        "outputId": "31e83bfe-5024-4764-8e0a-f2df73cb55ea"
      },
      "execution_count": null,
      "outputs": [
        {
          "output_type": "execute_result",
          "data": {
            "text/plain": [
              "{'John': 10,\n",
              " 'Marie': 5,\n",
              " 'Emily': 15,\n",
              " 'David': 9,\n",
              " 'Brian': 6,\n",
              " 'Sarah': 11,\n",
              " 'George': 14}"
            ]
          },
          "metadata": {},
          "execution_count": 45
        }
      ]
    },
    {
      "cell_type": "markdown",
      "source": [
        "iterate through the elements of a dict: **for key, value in dict.items()** --> returns the (key, value) tuple for each element"
      ],
      "metadata": {
        "id": "ZtbfygConDLj"
      }
    },
    {
      "cell_type": "code",
      "source": [
        "points.items()"
      ],
      "metadata": {
        "id": "P3rtOFeS8N_3",
        "colab": {
          "base_uri": "https://localhost:8080/"
        },
        "outputId": "1d233d74-0ad5-49c8-ef0b-88d326ba1956"
      },
      "execution_count": null,
      "outputs": [
        {
          "output_type": "execute_result",
          "data": {
            "text/plain": [
              "dict_items([('John', 10), ('Marie', 5), ('Emily', 15), ('David', 9), ('Brian', 6), ('Sarah', 11), ('George', 14)])"
            ]
          },
          "metadata": {},
          "execution_count": 46
        }
      ]
    },
    {
      "cell_type": "code",
      "source": [
        "building.items()"
      ],
      "metadata": {
        "id": "0Hv3IVMwnKLf",
        "colab": {
          "base_uri": "https://localhost:8080/"
        },
        "outputId": "230aa23d-1714-4a47-d76a-490a72405164"
      },
      "execution_count": null,
      "outputs": [
        {
          "output_type": "execute_result",
          "data": {
            "text/plain": [
              "dict_items([('area', 82), ('floors', 2), ('garden', True), ('price', 500000)])"
            ]
          },
          "metadata": {},
          "execution_count": 47
        }
      ]
    },
    {
      "cell_type": "code",
      "source": [
        "for k,v in building.items():\n",
        "  print(k, \":\", v)"
      ],
      "metadata": {
        "id": "x4-TydsXm0LY",
        "colab": {
          "base_uri": "https://localhost:8080/"
        },
        "outputId": "5e0373b2-1f23-483f-d4b0-a859bd68c4b4"
      },
      "execution_count": null,
      "outputs": [
        {
          "output_type": "stream",
          "name": "stdout",
          "text": [
            "area : 82\n",
            "floors : 2\n",
            "garden : True\n",
            "price : 500000\n"
          ]
        }
      ]
    },
    {
      "cell_type": "code",
      "source": [
        "def f(**kwargs): #kwargs is a dictionary\n",
        "  for k,v in kwargs.items():\n",
        "    print(k,v)"
      ],
      "metadata": {
        "id": "7JNtKrABlwtC"
      },
      "execution_count": null,
      "outputs": []
    },
    {
      "cell_type": "code",
      "source": [
        "f(**points)"
      ],
      "metadata": {
        "id": "lMVT_hqNjqLb",
        "colab": {
          "base_uri": "https://localhost:8080/"
        },
        "outputId": "196ae7cd-6cf9-44c0-f7da-50965079c07f"
      },
      "execution_count": null,
      "outputs": [
        {
          "output_type": "stream",
          "name": "stdout",
          "text": [
            "John 10\n",
            "Marie 5\n",
            "Emily 15\n",
            "David 9\n",
            "Brian 6\n",
            "Sarah 11\n",
            "George 14\n"
          ]
        }
      ]
    },
    {
      "cell_type": "markdown",
      "source": [
        "# Tasks"
      ],
      "metadata": {
        "id": "L9MhGmotF0FA"
      }
    },
    {
      "cell_type": "markdown",
      "source": [
        "Write a function that prints out the sum of the 2 parameters that it got!"
      ],
      "metadata": {
        "id": "Aiblr0_5xh59"
      }
    },
    {
      "cell_type": "code",
      "source": [
        "def\n",
        "\n"
      ],
      "metadata": {
        "id": "8YemXuOpxVFF"
      },
      "execution_count": null,
      "outputs": []
    },
    {
      "cell_type": "code",
      "source": [],
      "metadata": {
        "id": "8kBRWTXp33ev"
      },
      "execution_count": null,
      "outputs": []
    },
    {
      "cell_type": "markdown",
      "source": [
        "a) Write a function that returns the length of the hypotenuse of a right-angle triangle given the length of the legs!\n",
        "\n",
        "b) Write another function that returns the area of this triangle (right-angle triangle given the length of the legs)!\n",
        "\n",
        "c) (Store the results in a variable!) Calculate the altitude/height of the triangle (for the base of the hypotenuse)!"
      ],
      "metadata": {
        "id": "gqyStH_rxrPP"
      }
    },
    {
      "cell_type": "code",
      "source": [
        "import math"
      ],
      "metadata": {
        "id": "VLQpt0mpRrpC"
      },
      "execution_count": null,
      "outputs": []
    },
    {
      "cell_type": "code",
      "source": [],
      "metadata": {
        "id": "_N04dm-nyYsS"
      },
      "execution_count": null,
      "outputs": []
    },
    {
      "cell_type": "code",
      "source": [
        "hyp(3,4)"
      ],
      "metadata": {
        "id": "bS8H8tDM4yI8"
      },
      "execution_count": null,
      "outputs": []
    },
    {
      "cell_type": "code",
      "source": [],
      "metadata": {
        "id": "qQrT-69945gB"
      },
      "execution_count": null,
      "outputs": []
    },
    {
      "cell_type": "code",
      "source": [
        "area(3,4)"
      ],
      "metadata": {
        "id": "HJ-hZF-q5SFe"
      },
      "execution_count": null,
      "outputs": []
    },
    {
      "cell_type": "code",
      "source": [],
      "metadata": {
        "id": "vxXkWLLy5VWW"
      },
      "execution_count": null,
      "outputs": []
    },
    {
      "cell_type": "markdown",
      "source": [
        "Write a function that returns the sum of the (flexible number of) parameters that it gets!"
      ],
      "metadata": {
        "id": "v98P0cH-yaKM"
      }
    },
    {
      "cell_type": "code",
      "source": [],
      "metadata": {
        "id": "VKt27g5KysVh"
      },
      "execution_count": null,
      "outputs": []
    },
    {
      "cell_type": "markdown",
      "source": [
        "Write a function that prints out the value of the parameters with the corresponding keywords!"
      ],
      "metadata": {
        "id": "bH9Zm56FysoF"
      }
    },
    {
      "cell_type": "code",
      "source": [],
      "metadata": {
        "id": "6rWpknRGRCCG"
      },
      "execution_count": null,
      "outputs": []
    },
    {
      "cell_type": "markdown",
      "source": [
        "(Also test the function with a dictionary!)"
      ],
      "metadata": {
        "id": "bS5o67qp3xt5"
      }
    },
    {
      "cell_type": "code",
      "source": [
        "dictionary ={'param1':10, 'param2':3,'param3':50}"
      ],
      "metadata": {
        "id": "ic34xVLA7gTA"
      },
      "execution_count": null,
      "outputs": []
    },
    {
      "cell_type": "markdown",
      "source": [
        "Store the heights in a dictinary!"
      ],
      "metadata": {
        "id": "_Xu4Lffp0Kh3"
      }
    },
    {
      "cell_type": "code",
      "source": [
        "heights=[175,178,168,183,160,190,195,177,200,172,180]\n",
        "names=[\"James\",\"David\",\"Olivia\",\"Ben\",\"Anna\",\"Lucas\",\"Greg\",\"Elsa\",\"George\", \"John\",\"Nicole\"]"
      ],
      "metadata": {
        "id": "sYADq9Zr1xVC"
      },
      "execution_count": null,
      "outputs": []
    },
    {
      "cell_type": "code",
      "source": [
        "d={}\n",
        "#TODO"
      ],
      "metadata": {
        "id": "PUYoa01W2O3q"
      },
      "execution_count": null,
      "outputs": []
    },
    {
      "cell_type": "markdown",
      "source": [
        "Write a function to combine two dictionaries by adding the values for common keys!"
      ],
      "metadata": {
        "id": "c_w2ooJOPh_R"
      }
    },
    {
      "cell_type": "code",
      "source": [
        "d1 = {'a': 100, 'b': 200, 'c':300, 'e':150, 'f':200}\n",
        "d2 = {'a': 300, 'b': 200, 'd':400, 'e':200, 'g':300}"
      ],
      "metadata": {
        "id": "AK98Jg_5O8bP"
      },
      "execution_count": null,
      "outputs": []
    },
    {
      "cell_type": "code",
      "source": [],
      "metadata": {
        "id": "SvaOVlJVNzk5"
      },
      "execution_count": null,
      "outputs": []
    },
    {
      "cell_type": "markdown",
      "source": [
        "# Default parameters"
      ],
      "metadata": {
        "id": "j2ZNrp8cwt1m"
      }
    },
    {
      "cell_type": "code",
      "source": [
        "def building_price_calc(area, floors, rooms, garden=True, garage=0):\n",
        "  print(\"area=\", area, \"floors=\", floors, \"rooms=\", rooms,\"garden=\", garden,\"garage=\", garage)\n",
        "  return area*3000+floors*4000+rooms*1000+garden*5000+garage*4000"
      ],
      "metadata": {
        "id": "Ot-tRcu2vT6u"
      },
      "execution_count": null,
      "outputs": []
    },
    {
      "cell_type": "code",
      "source": [
        "building_price_calc(120, 2, 3)"
      ],
      "metadata": {
        "id": "fjF3YVYWv3U9"
      },
      "execution_count": null,
      "outputs": []
    },
    {
      "cell_type": "code",
      "source": [
        "building_price_calc(120,2,3,False)"
      ],
      "metadata": {
        "id": "Qp8BcVp7wQlG"
      },
      "execution_count": null,
      "outputs": []
    },
    {
      "cell_type": "code",
      "source": [
        "building_price_calc(120,2,3,0)"
      ],
      "metadata": {
        "id": "1mj7oj9lwU2C"
      },
      "execution_count": null,
      "outputs": []
    },
    {
      "cell_type": "markdown",
      "source": [
        "Actually we should verify the value of \"garden\" so it cannot be >1"
      ],
      "metadata": {
        "id": "x1AuzuHfA28J"
      }
    },
    {
      "cell_type": "code",
      "source": [
        "def building_price_calc(area, floors, rooms, garden=True, garage=0):\n",
        "  if(garden==True or garden==False):\n",
        "    print(\"area=\", area, \"floors=\", floors, \"rooms=\", rooms,\"garden=\", garden,\"garage=\", garage)\n",
        "    return area*3000+floors*4000+rooms*1000+garden*5000+garage*4000\n",
        "  else:\n",
        "    return \"garden should be either True or False\""
      ],
      "metadata": {
        "id": "IkVXWY8gA7V5"
      },
      "execution_count": null,
      "outputs": []
    },
    {
      "cell_type": "markdown",
      "source": [
        "non-keyword argument (positional argument) cannot follow keyword argument"
      ],
      "metadata": {
        "id": "lTXlZLYHxk9j"
      }
    },
    {
      "cell_type": "code",
      "source": [
        "#building_price_calc(area=120, 2, 3, 0) -- error\n",
        "#keyword parameters can only come at the end, otherwise the order of parameters would be confusing for the program"
      ],
      "metadata": {
        "id": "4imrRegAlyeC"
      },
      "execution_count": null,
      "outputs": []
    },
    {
      "cell_type": "code",
      "source": [
        "building_price_calc(area=120,rooms=2,floors=3,garden=0,garage=3)"
      ],
      "metadata": {
        "id": "8IP5fV5qwnhZ"
      },
      "execution_count": null,
      "outputs": []
    },
    {
      "cell_type": "markdown",
      "source": [
        "## Excercises for practice:"
      ],
      "metadata": {
        "id": "WZ3xP6Bg4sNH"
      }
    },
    {
      "cell_type": "markdown",
      "source": [
        "Write a function that gets a year as a parameter and decides whether it is a leap year or not!"
      ],
      "metadata": {
        "id": "4_rGlzDombFC"
      }
    },
    {
      "cell_type": "code",
      "source": [
        "def leapyear(year):"
      ],
      "metadata": {
        "id": "zIXfZg6fxhk8"
      },
      "execution_count": null,
      "outputs": []
    },
    {
      "cell_type": "markdown",
      "source": [
        "Write a function to print the even numbers from a given list.\n",
        "\n",
        "Sample List : [1, 2, 3, 4, 5, 6, 7, 8, 9]\n",
        "\n",
        "\n",
        "Expected Result : [2, 4, 6, 8]"
      ],
      "metadata": {
        "id": "EMM5SbaBmh7H"
      }
    },
    {
      "cell_type": "code",
      "source": [],
      "metadata": {
        "id": "PCqbFn9qP9S0"
      },
      "execution_count": null,
      "outputs": []
    },
    {
      "cell_type": "markdown",
      "source": [
        "Try to do it with list comprehension as well!"
      ],
      "metadata": {
        "id": "EKHASuHXCm3M"
      }
    },
    {
      "cell_type": "code",
      "source": [],
      "metadata": {
        "id": "ezIfQJ_CBMUL"
      },
      "execution_count": null,
      "outputs": []
    },
    {
      "cell_type": "markdown",
      "source": [
        "Write a function that calculates how many days have already passed by the year given a date! The function should take 3 parameters: day, month, year (do not forget to check whether it is a leap year!)"
      ],
      "metadata": {
        "id": "wQj7H5GH0IOO"
      }
    },
    {
      "cell_type": "markdown",
      "source": [
        "Write a function to decide whether a number is a prime number!"
      ],
      "metadata": {
        "id": "9TmqmVUZQnkK"
      }
    },
    {
      "cell_type": "code",
      "source": [],
      "metadata": {
        "id": "Y73Sll3lQnUV"
      },
      "execution_count": null,
      "outputs": []
    },
    {
      "cell_type": "markdown",
      "source": [
        "Create a function show_employee() using the following conditions:\n",
        "\n",
        "It should accept the employee’s name and salary and display both.\n",
        "If the salary is missing in the function call then assign default value 9000 to salary"
      ],
      "metadata": {
        "id": "Qv0fDZF_bpFp"
      }
    },
    {
      "cell_type": "code",
      "source": [],
      "metadata": {
        "id": "ntot29r-DhTG"
      },
      "execution_count": null,
      "outputs": []
    },
    {
      "cell_type": "markdown",
      "source": [
        "## Recursive functions"
      ],
      "metadata": {
        "id": "Mc06RXdrXf0j"
      }
    },
    {
      "cell_type": "markdown",
      "source": [
        "Define a function to calculate the factorial of a number with recursion!"
      ],
      "metadata": {
        "id": "JFIZbGV55sCZ"
      }
    },
    {
      "cell_type": "code",
      "source": [],
      "metadata": {
        "id": "WL2yBMQjR-iF"
      },
      "execution_count": null,
      "outputs": []
    },
    {
      "cell_type": "markdown",
      "source": [
        "Calculate the sum of the first n natural numbers!"
      ],
      "metadata": {
        "id": "zOv_Zxx5GZ1p"
      }
    },
    {
      "cell_type": "code",
      "source": [],
      "metadata": {
        "id": "fWAHEkC4I4eK"
      },
      "execution_count": null,
      "outputs": []
    },
    {
      "cell_type": "markdown",
      "source": [
        "## More excercises"
      ],
      "metadata": {
        "id": "xGmFhE_cGSjx"
      }
    },
    {
      "cell_type": "code",
      "source": [],
      "metadata": {
        "id": "06j3xHHcH1kK"
      },
      "execution_count": null,
      "outputs": []
    },
    {
      "cell_type": "markdown",
      "source": [
        "Write a function that calculates the distance between two points in a coordinate system!"
      ],
      "metadata": {
        "id": "KDhRmqajfC2V"
      }
    },
    {
      "cell_type": "code",
      "source": [],
      "metadata": {
        "id": "ilmqNxf_NwuO"
      },
      "execution_count": null,
      "outputs": []
    },
    {
      "cell_type": "markdown",
      "source": [
        "By using a function, calculate the circumference of a polygon in a coordinate system!\n",
        "It is recommended to define a new function that accepts flexible number of points but uses the function defined above!\n",
        "\n",
        "E.g.\n",
        "\n",
        "function(...points...):\n",
        "\n",
        "store points in a list - calculate the distance between the neighbours (previous function) and do not forget that the last one and the first one is also connected\n"
      ],
      "metadata": {
        "id": "tn6Q2hK_h2WK"
      }
    },
    {
      "cell_type": "code",
      "source": [],
      "metadata": {
        "id": "rPI9fjLrh3LZ"
      },
      "execution_count": null,
      "outputs": []
    },
    {
      "cell_type": "markdown",
      "source": [
        "Write a funciton to calculate the area of a regular polygon with n sides and with an *a* length of side!"
      ],
      "metadata": {
        "id": "KX6icmH0lX6N"
      }
    },
    {
      "cell_type": "code",
      "source": [],
      "metadata": {
        "id": "-s6FNAoXy1Ft"
      },
      "execution_count": null,
      "outputs": []
    },
    {
      "cell_type": "markdown",
      "source": [
        "Write a function to calculate the area of an n sided regular polynom that can be written in a circle with radius of *r*!\n",
        "\n",
        "Help: calculate the angle, from there the area of a triangle is easy to calculate\n"
      ],
      "metadata": {
        "id": "hKj6ecVdy1a_"
      }
    },
    {
      "cell_type": "markdown",
      "source": [
        "![letöltés.jpg](data:image/jpeg;base64,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)"
      ],
      "metadata": {
        "id": "2My3G0FtGn2n"
      }
    },
    {
      "cell_type": "code",
      "source": [],
      "metadata": {
        "id": "n9LhvWdWy9ck"
      },
      "execution_count": null,
      "outputs": []
    },
    {
      "cell_type": "markdown",
      "source": [
        "Write a function to calculate the worth of our investment (Future Value) with compound interest (given the amount of the investment, the yearly interest rate(%), the number of times it's applied in a year, the number of years)! ![Képernyőkép 2024-04-10 195445.png](data:image/png;base64,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)"
      ],
      "metadata": {
        "id": "oO0BMojXHcYL"
      }
    },
    {
      "cell_type": "code",
      "source": [],
      "metadata": {
        "id": "k93QHBPjHXND"
      },
      "execution_count": null,
      "outputs": []
    },
    {
      "cell_type": "markdown",
      "source": [
        "# Task\n"
      ],
      "metadata": {
        "id": "XuaHoUysFt8o"
      }
    },
    {
      "cell_type": "markdown",
      "source": [
        "Write a function with flexible number of parameters that calculates how many centimeters the water level rises in a pool (20m * 10m  with a 1,5m water-level at the moment) if we drop objects from the given material inside it! The arguments should be: the name of the material and its mass (in kg).\n",
        "\n",
        "\"density\" dictionary contains the densities of the materials in kg/m^3\n",
        "\n",
        "\n",
        "e.g.: f(aluminium= 15, asphalt= 20, concrete= 10, etc.)"
      ],
      "metadata": {
        "id": "y9xK7cxcv_EV"
      }
    },
    {
      "cell_type": "code",
      "source": [
        "density={\"aluminium\": 2700, \"asphalt\": 2120, \"concrete\": 2200, \"copper\": 8300, \"granite\":2200, \"iron\": 7272, \"plexiglas\":1180}\n",
        "#if you want, you can add more materials to the dictionary\n",
        "# https://amesweb.info/Materials/Density-Materials.aspx"
      ],
      "metadata": {
        "id": "ttAoip1Mxtkl"
      },
      "execution_count": null,
      "outputs": []
    },
    {
      "cell_type": "code",
      "source": [
        "#adding a new element simply by: dict[key]=value\n",
        "density[\"silicon\"]= 2230\n",
        "density"
      ],
      "metadata": {
        "id": "-5J32eyWzPpE"
      },
      "execution_count": null,
      "outputs": []
    },
    {
      "cell_type": "markdown",
      "source": [
        "V=mass/density"
      ],
      "metadata": {
        "id": "DBWi5a53VQoO"
      }
    },
    {
      "cell_type": "code",
      "source": [
        "#TODO\n",
        "def level_rise ():\n",
        "\n"
      ],
      "metadata": {
        "id": "t6HaXDGoz_R5"
      },
      "execution_count": null,
      "outputs": []
    },
    {
      "cell_type": "code",
      "source": [
        "level_rise(aluminium= 150, asphalt= 200, concrete= 10)"
      ],
      "metadata": {
        "id": "RCrlh0QzPL6i"
      },
      "execution_count": null,
      "outputs": []
    }
  ]
}